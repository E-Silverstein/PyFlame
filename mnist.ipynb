{
 "cells": [
  {
   "cell_type": "code",
   "execution_count": 12,
   "metadata": {},
   "outputs": [],
   "source": [
    "from engine import Matrix, Atom\n",
    "from nn import MLP, mse_loss\n",
    "from tqdm import tqdm"
   ]
  },
  {
   "cell_type": "code",
   "execution_count": 13,
   "metadata": {},
   "outputs": [],
   "source": [
    "# Just using the external libraries to load and preprocess the data\n",
    "import numpy as np\n",
    "import torch\n",
    "from torch.utils.data import DataLoader\n",
    "from torchvision import transforms\n",
    "from torchvision.datasets import MNIST"
   ]
  },
  {
   "cell_type": "code",
   "execution_count": 14,
   "metadata": {},
   "outputs": [],
   "source": [
    "transform = transforms.Compose([transforms.ToTensor(), transforms.Normalize((0.1307,), (0.3081,))])\n",
    "train_dataset = MNIST('.', train=True, transform=transform, download=True)\n",
    "test_dataset = MNIST('.', train=False, transform=transform, download=True)\n",
    "\n",
    "train_loader = DataLoader(train_dataset, batch_size=8, shuffle=True)\n",
    "test_loader = DataLoader(test_dataset, batch_size=1000, shuffle=False)\n",
    "\n",
    "train_images = []\n",
    "train_labels = []\n",
    "for images, labels in train_loader:\n",
    "    train_images.append(images.view(-1, 28*28).numpy())\n",
    "    train_labels.append(labels.numpy())\n",
    "\n",
    "train_images = np.vstack(train_images)\n",
    "train_labels = np.hstack(train_labels)\n",
    "train_labels = torch.nn.functional.one_hot(torch.tensor(train_labels), num_classes=10).numpy()\n",
    "\n",
    "test_images, test_labels = next(iter(test_loader))\n",
    "test_images = test_images.view(-1, 28*28).numpy()\n",
    "test_labels = test_labels.numpy()\n"
   ]
  },
  {
   "cell_type": "code",
   "execution_count": 15,
   "metadata": {},
   "outputs": [],
   "source": [
    "# Some of the functions implemented in numpy for speed, maybe I can implement low level versions in another language in the future\n",
    "def softmax(logits):\n",
    "    exps = np.exp(logits - np.max(logits, axis=1, keepdims=True))\n",
    "    return exps / np.sum(exps, axis=1, keepdims=True)\n",
    "\n",
    "\n",
    "def cross_entropy_loss(targets, predictions):\n",
    "    m = targets.shape[0]\n",
    "    p = softmax(predictions)\n",
    "    log_likelihood = -np.log(p[range(m), targets.argmax(axis=1)] + 1e-9)\n",
    "    loss = np.sum(log_likelihood) / m\n",
    "    return loss"
   ]
  },
  {
   "cell_type": "code",
   "execution_count": 16,
   "metadata": {},
   "outputs": [
    {
     "name": "stdout",
     "output_type": "stream",
     "text": [
      "Model initialized with 3 layers and 52650 parameters\n"
     ]
    },
    {
     "name": "stderr",
     "output_type": "stream",
     "text": [
      "  0%|          | 0/500 [00:00<?, ?it/s]"
     ]
    },
    {
     "name": "stderr",
     "output_type": "stream",
     "text": [
      "  0%|          | 1/500 [00:06<57:40,  6.94s/it]"
     ]
    },
    {
     "name": "stdout",
     "output_type": "stream",
     "text": [
      "Step 0, Loss: 20.723265836644238\n"
     ]
    },
    {
     "name": "stderr",
     "output_type": "stream",
     "text": [
      "  0%|          | 2/500 [00:13<56:09,  6.77s/it]"
     ]
    }
   ],
   "source": [
    "batch_size = 8\n",
    "steps = 500\n",
    "lr = 0.01\n",
    "\n",
    "model = MLP(784, [64, 32, 10])\n",
    "print(f\"Model initialized with {len(model.layers)} layers and {len(model.parameters())} parameters\")\n",
    "\n",
    "for step in tqdm(range(steps)):\n",
    "    ri = np.random.permutation(train_images.shape[0])[:batch_size]\n",
    "    Xb = [[Atom(x) for x in train_images[i]] for i in ri]\n",
    "    yb = train_labels[ri]\n",
    "\n",
    "    # Forward pass\n",
    "    y_pred_atoms = [model(x) for x in Xb]\n",
    "    y_pred = np.array([[y.data for y in pred] for pred in y_pred_atoms])\n",
    "    \n",
    "    # Calculate loss\n",
    "    loss = cross_entropy_loss(yb, y_pred)\n",
    "\n",
    "    # Backward pass\n",
    "    probs = softmax(y_pred)\n",
    "    for i in range(len(yb)):\n",
    "        for j in range(len(yb[i])):\n",
    "            y_pred_atoms[i][j].grad = probs[i][j] - yb[i][j]\n",
    "    \n",
    "    model.zero_grad()\n",
    "    for y_pred_atom in y_pred_atoms:\n",
    "        for y in y_pred_atom:\n",
    "            y.backward()\n",
    "    \n",
    "    # Update parameters\n",
    "    for p in model.parameters():\n",
    "        p.data -= lr * p.grad\n",
    "\n",
    "    if step % 100 == 0:\n",
    "        print(f'Step {step}, Loss: {loss}')\n",
    "\n",
    "print(f'Final Step, Loss: {loss}')"
   ]
  },
  {
   "cell_type": "code",
   "execution_count": null,
   "metadata": {},
   "outputs": [
    {
     "name": "stdout",
     "output_type": "stream",
     "text": [
      "Accuracy on test data: 9.00%\n"
     ]
    }
   ],
   "source": [
    "from sklearn.metrics import accuracy_score\n",
    "test_atoms = [[Atom(x) for x in test_images[i]] for i in range(test_images.shape[0])]\n",
    "predictions = [model(x) for x in test_atoms]\n",
    "pred_labels = np.array([[y.data for y in pred] for pred in predictions])\n",
    "pred_labels = np.argmax(pred_labels, axis=1)\n",
    "\n",
    "accuracy = accuracy_score(test_labels, pred_labels)\n",
    "print(f'Accuracy on test data: {accuracy * 100:.2f}%')"
   ]
  }
 ],
 "metadata": {
  "kernelspec": {
   "display_name": "ai_shit",
   "language": "python",
   "name": "python3"
  },
  "language_info": {
   "codemirror_mode": {
    "name": "ipython",
    "version": 3
   },
   "file_extension": ".py",
   "mimetype": "text/x-python",
   "name": "python",
   "nbconvert_exporter": "python",
   "pygments_lexer": "ipython3",
   "version": "3.10.10"
  }
 },
 "nbformat": 4,
 "nbformat_minor": 2
}

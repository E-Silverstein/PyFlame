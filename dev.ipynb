{
 "cells": [
  {
   "cell_type": "code",
   "execution_count": 1,
   "metadata": {},
   "outputs": [],
   "source": [
    "from engine import Atom, Matrix\n",
    "from nn import MLP, mse_loss\n",
    "from utils import draw_dot"
   ]
  },
  {
   "cell_type": "code",
   "execution_count": 2,
   "metadata": {},
   "outputs": [
    {
     "name": "stdout",
     "output_type": "stream",
     "text": [
      "Atom(data=5.0)\n"
     ]
    }
   ],
   "source": [
    "a = Atom(2.0, label='a')\n",
    "b = Atom(3.0, label='b')\n",
    "c = a + b\n",
    "print(c)"
   ]
  },
  {
   "cell_type": "code",
   "execution_count": 3,
   "metadata": {},
   "outputs": [
    {
     "name": "stdout",
     "output_type": "stream",
     "text": [
      "Matrix(data=[\n",
      "  [Atom(data=2.0), Atom(data=3.0), Atom(data=5.0)],\n",
      "  [Atom(data=2.0), Atom(data=3.0), Atom(data=5.0)],\n",
      "], shape=(2, 3))\n"
     ]
    }
   ],
   "source": [
    "t = Matrix([[a, b, c],\n",
    "            [a, b, c]])\n",
    "print(t)"
   ]
  },
  {
   "cell_type": "code",
   "execution_count": 4,
   "metadata": {},
   "outputs": [
    {
     "name": "stdout",
     "output_type": "stream",
     "text": [
      "(2, 3)\n"
     ]
    }
   ],
   "source": [
    "print(t.shape)"
   ]
  },
  {
   "cell_type": "code",
   "execution_count": 5,
   "metadata": {},
   "outputs": [
    {
     "name": "stdout",
     "output_type": "stream",
     "text": [
      "Matrix(data=[\n",
      "  [Atom(data=1), Atom(data=2), Atom(data=3)],\n",
      "  [Atom(data=4), Atom(data=5), Atom(data=6)],\n",
      "], shape=(2, 3))\n"
     ]
    }
   ],
   "source": [
    "t2 = Matrix([[1, 2, 3],\n",
    "             [4, 5, 6]])\n",
    "print(t2)"
   ]
  },
  {
   "cell_type": "code",
   "execution_count": 6,
   "metadata": {},
   "outputs": [
    {
     "name": "stdout",
     "output_type": "stream",
     "text": [
      "t + t2 =  Matrix(data=[\n",
      "  [Atom(data=3.0), Atom(data=5.0), Atom(data=8.0)],\n",
      "  [Atom(data=6.0), Atom(data=8.0), Atom(data=11.0)],\n",
      "], shape=(2, 3))\n"
     ]
    }
   ],
   "source": [
    "print(\"t + t2 = \", t + t2)"
   ]
  },
  {
   "cell_type": "code",
   "execution_count": 8,
   "metadata": {},
   "outputs": [
    {
     "data": {
      "text/plain": [
       "Matrix(data=[\n",
       "  [Atom(data=3.0), Atom(data=4.0), Atom(data=6.0)],\n",
       "  [Atom(data=3.0), Atom(data=4.0), Atom(data=6.0)],\n",
       "], shape=(2, 3))"
      ]
     },
     "execution_count": 8,
     "metadata": {},
     "output_type": "execute_result"
    }
   ],
   "source": [
    "t + [[1.0, 1.0, 1.0],[1.0, 1.0, 1.0]]"
   ]
  },
  {
   "cell_type": "code",
   "execution_count": null,
   "metadata": {},
   "outputs": [],
   "source": []
  }
 ],
 "metadata": {
  "kernelspec": {
   "display_name": "base",
   "language": "python",
   "name": "python3"
  },
  "language_info": {
   "codemirror_mode": {
    "name": "ipython",
    "version": 3
   },
   "file_extension": ".py",
   "mimetype": "text/x-python",
   "name": "python",
   "nbconvert_exporter": "python",
   "pygments_lexer": "ipython3",
   "version": "3.11.5"
  }
 },
 "nbformat": 4,
 "nbformat_minor": 2
}
